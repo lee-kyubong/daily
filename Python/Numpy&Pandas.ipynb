{
 "cells": [
  {
   "cell_type": "code",
   "execution_count": 1,
   "metadata": {},
   "outputs": [
    {
     "data": {
      "text/plain": [
       "[[1.0, 10.4, 3.2, 5.1, 7.5, 2.7],\n",
       " [1.0, 10.4, 3.2, 5.1, 7.5, 2.7],\n",
       " [1.0, 10.4, 3.2, 5.1, 7.5, 2.7]]"
      ]
     },
     "execution_count": 1,
     "metadata": {},
     "output_type": "execute_result"
    }
   ],
   "source": [
    "np = [1.0, 10.4, 3.2, 5.1, 7.5, 2.7] # 변수 np에 실수 list 생성\n",
    "\n",
    "flotY = [np, np, np] # 변수 flotY에 np list를 3개를 넣어 다차원 배열을 생성\n",
    "flotY"
   ]
  },
  {
   "cell_type": "code",
   "execution_count": 2,
   "metadata": {},
   "outputs": [
    {
     "data": {
      "text/plain": [
       "[1.0, 10.4, 3.2, 5.1, 7.5, 2.7]"
      ]
     },
     "execution_count": 2,
     "metadata": {},
     "output_type": "execute_result"
    }
   ],
   "source": [
    "# flotY는 다차원 배열\n",
    "# flotY[n]을 이용해 n차원 배열 값 출력\n",
    "flotY[0]"
   ]
  },
  {
   "cell_type": "code",
   "execution_count": 4,
   "metadata": {},
   "outputs": [
    {
     "data": {
      "text/plain": [
       "['Python', [1.0, 10.4, 3.2, 5.1, 7.5, 2.7], [1.0, 10.4, 3.2, 5.1, 7.5, 2.7]]"
      ]
     },
     "execution_count": 4,
     "metadata": {},
     "output_type": "execute_result"
    }
   ],
   "source": [
    "flotY[0]='Python' # flotV[0]의 차원에 위의 값 대신 'Python'이라는 값을 입력하여 값을 변환\n",
    "flotY"
   ]
  },
  {
   "cell_type": "code",
   "execution_count": 5,
   "metadata": {},
   "outputs": [
    {
     "data": {
      "text/plain": [
       "array([ 5.5,  7. ])"
      ]
     },
     "execution_count": 5,
     "metadata": {},
     "output_type": "execute_result"
    }
   ],
   "source": [
    "import numpy as np # numpy패키지를 np라는 명칭으로 축약\n",
    "\n",
    "a = np.array([1, 2.5, 4.0, 5.5, 7.0]) # np.array함수를 사용한 값을 변수 a에 저장\n",
    "a[3:]                                 # 변수 a의 3번째 자리부터 출력"
   ]
  },
  {
   "cell_type": "code",
   "execution_count": null,
   "metadata": {
    "collapsed": true
   },
   "outputs": [],
   "source": []
  }
 ],
 "metadata": {
  "kernelspec": {
   "display_name": "Python 3",
   "language": "python",
   "name": "python3"
  },
  "language_info": {
   "codemirror_mode": {
    "name": "ipython",
    "version": 3
   },
   "file_extension": ".py",
   "mimetype": "text/x-python",
   "name": "python",
   "nbconvert_exporter": "python",
   "pygments_lexer": "ipython3",
   "version": "3.6.3"
  }
 },
 "nbformat": 4,
 "nbformat_minor": 2
}
