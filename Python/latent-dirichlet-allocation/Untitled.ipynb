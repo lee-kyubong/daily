{
 "cells": [
  {
   "cell_type": "code",
   "execution_count": 27,
   "metadata": {},
   "outputs": [],
   "source": [
    "#단어집 만들기\n",
    "voca = {}\n",
    "with open('SMSSpamCollection') as file_handle:\n",
    "    for line in file_handle: #텍스트 파일을 한줄씩 읽기\n",
    "        splits = line.split() #각 줄을 space로 구분해 list화\n",
    "        label = splits[0] #문장의 첫 시작은 라벨링\n",
    "        text = splits[1:] \n",
    "        \n",
    "        for word in text:\n",
    "            lower = word.lower()\n",
    "            if not lower in voca: ###lower in voca?: 맞다. 빈 voca dict\n",
    "                voca[lower] = len(voca) #기존 사전에 해당 단어가 없으면 고유번호 할당 {'단어': 고유번호}"
   ]
  },
  {
   "cell_type": "code",
   "execution_count": 28,
   "metadata": {},
   "outputs": [],
   "source": [
    "#단어집 활용해 '단어 빈도 피처' 생성\n",
    "import numpy as np\n",
    "\n",
    "features = []\n",
    "with open('SMSSpamCollection') as file_handle:\n",
    "    for line in file_handle: #한 줄에 SMS 데이터 하나(문서 하나)\n",
    "        feature = np.zeros(len(voca))\n",
    "        splits = line.split()\n",
    "        text = splits[1:] ###splits?\n",
    "        for word in text:\n",
    "            lower = word.lower()\n",
    "            feature[voca[lower]] += 1 #feature라는 벡터의 고유번호번째 0에 +1 (빈도 count)\n",
    "        \n",
    "        feature = feature / sum(feature)\n",
    "        features.append(feature)"
   ]
  },
  {
   "cell_type": "markdown",
   "metadata": {},
   "source": [
    "여기서 features는 넘파이 리스트로써 각각의 넘파이 리스트가 한 문서의 피처를 담고 있음.\n",
    "각 단어가 몇 번씩 나왔는지 np.zero 넘파이 배열에 기록하고, 한 문서가 끝나면 전체 단어 개수로 각 단어의 출현 수를 나눠, 각 단어 빈도 피처값을 계산"
   ]
  },
  {
   "cell_type": "code",
   "execution_count": null,
   "metadata": {},
   "outputs": [],
   "source": []
  }
 ],
 "metadata": {
  "kernelspec": {
   "display_name": "Python 3",
   "language": "python",
   "name": "python3"
  },
  "language_info": {
   "codemirror_mode": {
    "name": "ipython",
    "version": 3
   },
   "file_extension": ".py",
   "mimetype": "text/x-python",
   "name": "python",
   "nbconvert_exporter": "python",
   "pygments_lexer": "ipython3",
   "version": "3.6.3"
  }
 },
 "nbformat": 4,
 "nbformat_minor": 2
}
