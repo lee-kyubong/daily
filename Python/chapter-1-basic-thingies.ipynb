{
 "cells": [
  {
   "cell_type": "code",
   "execution_count": 1,
   "metadata": {},
   "outputs": [
    {
     "name": "stdout",
     "output_type": "stream",
     "text": [
      "Output #1: apostrophe such as I'm\n"
     ]
    }
   ],
   "source": [
    "print('Output #1: {0}'.format('apostrophe such as I\\'m'))"
   ]
  },
  {
   "cell_type": "code",
   "execution_count": 2,
   "metadata": {},
   "outputs": [
    {
     "name": "stdout",
     "output_type": "stream",
     "text": [
      "Output #2: 20, 40, 90\n"
     ]
    }
   ],
   "source": [
    "a = 20\n",
    "b = 40\n",
    "c= 90\n",
    "print('Output #2: {0}, {1}, {2}'.format(a, b, c))"
   ]
  },
  {
   "cell_type": "code",
   "execution_count": 3,
   "metadata": {},
   "outputs": [
    {
     "name": "stdout",
     "output_type": "stream",
     "text": [
      "Output #3: 12.0\n"
     ]
    }
   ],
   "source": [
    "y = 2.5 * 4.8\n",
    "print('Output #3: {0:.1f}'.format(y))\n",
    "#print('Output #3: {0:.1f}'.format(y))\n",
    "# ':d' means setting for a point."
   ]
  },
  {
   "cell_type": "code",
   "execution_count": 5,
   "metadata": {},
   "outputs": [
    {
     "name": "stdout",
     "output_type": "stream",
     "text": [
      "Output #16: 'multi-line' comment strings w/ triple\n",
      "quotes\n"
     ]
    }
   ],
   "source": [
    "#In this case, just hit enter to change the line.\n",
    "print('Output #16: {0:s}'.format(''''multi-line' comment strings w/ triple\n",
    "quotes'''))"
   ]
  },
  {
   "cell_type": "code",
   "execution_count": 13,
   "metadata": {},
   "outputs": [
    {
     "name": "stdout",
     "output_type": "stream",
     "text": [
      "Output #15: to change the line, insert backlash + 'n' \n",
      " like this\n",
      "Output #15: to change the line, insert backlash + 'n' \n",
      " like this\n"
     ]
    }
   ],
   "source": [
    "print('Output #15: {0:s}'.format('to change the line, insert backlash + \\'n\\' \\n like this'))\n",
    "\n",
    "print('Output #15: {0:s}'.format('to change the line, insert backlash + \\'n\\' \\\n",
    "\\n like this'))\n",
    "#To chage the line in an editor, use \\(backlash)"
   ]
  },
  {
   "cell_type": "code",
   "execution_count": 14,
   "metadata": {},
   "outputs": [
    {
     "name": "stdout",
     "output_type": "stream",
     "text": [
      "this isn't everything you're\n"
     ]
    }
   ],
   "source": [
    "print('{0:s} {1:s} {2:s} {3:s}'.format('this', 'isn\\'t', 'everything', 'you\\'re'))"
   ]
  },
  {
   "cell_type": "code",
   "execution_count": 21,
   "metadata": {},
   "outputs": [
    {
     "name": "stdout",
     "output_type": "stream",
     "text": [
      "['This', 'is', 'a', 'short', 'string']\n",
      "This is a short string\n",
      "This!@is!@a!@short!@string\n"
     ]
    }
   ],
   "source": [
    "str1 = 'This is a '\n",
    "str2 = 'short string'\n",
    "sentence = str1 + str2\n",
    "\n",
    "a1 = sentence.split(' ')\n",
    "print(a1)\n",
    "\n",
    "print(' '.join(a1))\n",
    "\n",
    "print(sentence.replace(' ', '!@'))"
   ]
  },
  {
   "cell_type": "code",
   "execution_count": 25,
   "metadata": {},
   "outputs": [
    {
     "name": "stdout",
     "output_type": "stream",
     "text": [
      "BREATH deelply in the SILLENCE, NO sudden moves\n",
      "breath deelply in the sillence, no sudden moves\n",
      "BREATH DEELPLY IN THE SILLENCE, NO SUDDEN MOVES\n",
      "Breath deelply in the sillence, no sudden moves\n"
     ]
    }
   ],
   "source": [
    "str3 = 'BREATH deelply in the SILLENCE, NO sudden moves'\n",
    "print(str3)\n",
    "print(str3.lower())\n",
    "print(str3.upper())\n",
    "print(str3.capitalize())"
   ]
  },
  {
   "cell_type": "markdown",
   "metadata": {},
   "source": [
    "----"
   ]
  },
  {
   "cell_type": "markdown",
   "metadata": {},
   "source": [
    "## Regular expression\n",
    "\n",
    "- to find specific patterns of letters"
   ]
  },
  {
   "cell_type": "code",
   "execution_count": 27,
   "metadata": {
    "collapsed": true
   },
   "outputs": [],
   "source": [
    "import re\n",
    "# re모듈은 특정 패턴을 만들거나 찾을 수 있는 함수들 포함(re.complie, re.search, re.sub, re.ignorecase, re.I ...)"
   ]
  },
  {
   "cell_type": "code",
   "execution_count": 28,
   "metadata": {},
   "outputs": [
    {
     "name": "stdout",
     "output_type": "stream",
     "text": [
      "['The', 'quick', 'brown', 'fox', 'jumps', 'over', 'the', 'lazy', 'dog.']\n"
     ]
    }
   ],
   "source": [
    "string = 'The quick brown fox jumps over the lazy dog.'\n",
    "string_list = string.split()\n",
    "print(string_list)"
   ]
  },
  {
   "cell_type": "code",
   "execution_count": 34,
   "metadata": {
    "collapsed": true
   },
   "outputs": [],
   "source": [
    "pattern = re.compile(r'The', re.I)\n",
    "# 'raw string임을 나타내는 'r'.\n",
    "# 원시 문자열은 파이썬이 문자열 내 \\t, \\과 같은 특수한 문자들을 따로 처리하지 않게 해준다. 이는 패턴 검색 시 의도치 않은 해석 방지.\n",
    "# re.compile 함수는 텍스트 기반의 패턴을 정규 표현식으로 컴파일\n",
    "# re.I 함수는 대소문자의 구분을 없애준다.\n",
    "# re.sub 함수는 대소문자 구분 없이 원하는 패턴 찾고, 다른 문자열로 변경 가능"
   ]
  },
  {
   "cell_type": "code",
   "execution_count": 35,
   "metadata": {},
   "outputs": [
    {
     "name": "stdout",
     "output_type": "stream",
     "text": [
      "Output #38: 2\n",
      "Output #40: a quick brown fox jumps over a lazy dog.\n"
     ]
    }
   ],
   "source": [
    "count = 0\n",
    "for word in string_list:\n",
    "    if pattern.search(word):\n",
    "        count += 1\n",
    "print('Output #38: {0:d}'.format(count))\n",
    "print('Output #40: {:s}'.format(pattern.sub('a', string)))"
   ]
  },
  {
   "cell_type": "markdown",
   "metadata": {},
   "source": [
    "-------"
   ]
  },
  {
   "cell_type": "markdown",
   "metadata": {},
   "source": [
    "## Date"
   ]
  },
  {
   "cell_type": "code",
   "execution_count": 36,
   "metadata": {
    "collapsed": true
   },
   "outputs": [],
   "source": [
    "from datetime import date, time, datetime, timedelta"
   ]
  },
  {
   "cell_type": "code",
   "execution_count": 42,
   "metadata": {},
   "outputs": [
    {
     "name": "stdout",
     "output_type": "stream",
     "text": [
      "2018-06-20 /vs/ 2018-06-20 15:17:31.779513\n"
     ]
    }
   ],
   "source": [
    "today = date.today()\n",
    "current_time = datetime.today()\n",
    "\n",
    "print(today, '/vs/', current_time)"
   ]
  },
  {
   "cell_type": "code",
   "execution_count": 48,
   "metadata": {},
   "outputs": [
    {
     "name": "stdout",
     "output_type": "stream",
     "text": [
      "2018-06-30\n"
     ]
    }
   ],
   "source": [
    "print(today + timedelta(days = 10))"
   ]
  },
  {
   "cell_type": "code",
   "execution_count": 51,
   "metadata": {},
   "outputs": [
    {
     "name": "stdout",
     "output_type": "stream",
     "text": [
      "06/20/2018\n",
      "20180620\n",
      "2018-06-20\n"
     ]
    }
   ],
   "source": [
    "print(today.strftime('%m/%d/%Y'))\n",
    "print(today.strftime('%Y%m%d'))\n",
    "print(today.strftime('%Y-%m-%d'))"
   ]
  },
  {
   "cell_type": "markdown",
   "metadata": {},
   "source": [
    "---"
   ]
  },
  {
   "cell_type": "markdown",
   "metadata": {},
   "source": [
    "## List\n",
    "- 객체들의 순서가 있는 모임 collection\n",
    "- 유사한, 즉 동일한 형태의 객체만을 원소로 포함하는 한계를 넘어, 숫자, 문자열, 리스트, 튜플, 딕셔너리를 얼마든 표현 가능"
   ]
  },
  {
   "cell_type": "code",
   "execution_count": 79,
   "metadata": {},
   "outputs": [
    {
     "data": {
      "text/plain": [
       "2"
      ]
     },
     "execution_count": 79,
     "metadata": {},
     "output_type": "execute_result"
    }
   ],
   "source": [
    "test = [4, 5, 6, 7, 8, 5]\n",
    "test.count(5)"
   ]
  },
  {
   "cell_type": "code",
   "execution_count": 70,
   "metadata": {},
   "outputs": [
    {
     "data": {
      "text/plain": [
       "True"
      ]
     },
     "execution_count": 70,
     "metadata": {},
     "output_type": "execute_result"
    }
   ],
   "source": [
    "a = 4 in test\n",
    "a"
   ]
  },
  {
   "cell_type": "code",
   "execution_count": 81,
   "metadata": {},
   "outputs": [
    {
     "data": {
      "text/plain": [
       "[4, 5, 5, 6, 7, 8]"
      ]
     },
     "execution_count": 81,
     "metadata": {},
     "output_type": "execute_result"
    }
   ],
   "source": [
    "test.sort()\n",
    "sorted(test)"
   ]
  },
  {
   "cell_type": "markdown",
   "metadata": {},
   "source": [
    "This modifies your original list (i.e. sorts in-place). To get a sorted copy of the list, without changing the original, use the sorted() function"
   ]
  },
  {
   "cell_type": "code",
   "execution_count": 89,
   "metadata": {},
   "outputs": [],
   "source": [
    "test.reverse() #.sort()"
   ]
  },
  {
   "cell_type": "code",
   "execution_count": 90,
   "metadata": {},
   "outputs": [
    {
     "data": {
      "text/plain": [
       "[8, 7, 6, 5, 5, 4]"
      ]
     },
     "execution_count": 90,
     "metadata": {},
     "output_type": "execute_result"
    }
   ],
   "source": [
    "test"
   ]
  },
  {
   "cell_type": "markdown",
   "metadata": {},
   "source": [
    "------"
   ]
  },
  {
   "cell_type": "markdown",
   "metadata": {},
   "source": [
    "## Tuple\n",
    "- 튜플은 변경하지 못해 변경 함수가 없다.\n",
    "- 딕셔너리의 키 같은 역할 수행"
   ]
  },
  {
   "cell_type": "code",
   "execution_count": 91,
   "metadata": {},
   "outputs": [
    {
     "name": "stdout",
     "output_type": "stream",
     "text": [
      "('x', 'y', 'z')\n"
     ]
    }
   ],
   "source": [
    "ma_tuple = ('x', 'y', 'z')\n",
    "print(ma_tuple)"
   ]
  },
  {
   "cell_type": "code",
   "execution_count": 93,
   "metadata": {},
   "outputs": [
    {
     "name": "stdout",
     "output_type": "stream",
     "text": [
      "('x', 'y', 'z', 'x', 'y', 'z')\n"
     ]
    }
   ],
   "source": [
    "longer_mt = ma_tuple + ma_tuple\n",
    "print(longer_mt)"
   ]
  },
  {
   "cell_type": "code",
   "execution_count": 94,
   "metadata": {
    "collapsed": true
   },
   "outputs": [],
   "source": [
    "one, two, three = ma_tuple"
   ]
  },
  {
   "cell_type": "code",
   "execution_count": 97,
   "metadata": {},
   "outputs": [
    {
     "data": {
      "text/plain": [
       "'x'"
      ]
     },
     "execution_count": 97,
     "metadata": {},
     "output_type": "execute_result"
    }
   ],
   "source": [
    "one"
   ]
  },
  {
   "cell_type": "code",
   "execution_count": 98,
   "metadata": {},
   "outputs": [
    {
     "data": {
      "text/plain": [
       "str"
      ]
     },
     "execution_count": 98,
     "metadata": {},
     "output_type": "execute_result"
    }
   ],
   "source": [
    "type(one)"
   ]
  },
  {
   "cell_type": "code",
   "execution_count": 99,
   "metadata": {},
   "outputs": [
    {
     "data": {
      "text/plain": [
       "tuple"
      ]
     },
     "execution_count": 99,
     "metadata": {},
     "output_type": "execute_result"
    }
   ],
   "source": [
    "type(ma_tuple)"
   ]
  },
  {
   "cell_type": "code",
   "execution_count": null,
   "metadata": {
    "collapsed": true
   },
   "outputs": [],
   "source": []
  }
 ],
 "metadata": {
  "kernelspec": {
   "display_name": "Python 3",
   "language": "python",
   "name": "python3"
  },
  "language_info": {
   "codemirror_mode": {
    "name": "ipython",
    "version": 3
   },
   "file_extension": ".py",
   "mimetype": "text/x-python",
   "name": "python",
   "nbconvert_exporter": "python",
   "pygments_lexer": "ipython3",
   "version": "3.6.3"
  }
 },
 "nbformat": 4,
 "nbformat_minor": 2
}
