{
 "cells": [
  {
   "cell_type": "markdown",
   "metadata": {},
   "source": [
    "## print & .format"
   ]
  },
  {
   "cell_type": "code",
   "execution_count": 1,
   "metadata": {},
   "outputs": [
    {
     "name": "stdout",
     "output_type": "stream",
     "text": [
      "Output #1: apostrophe such as I'm\n"
     ]
    }
   ],
   "source": [
    "print('Output #1: {0}'.format('apostrophe such as I\\'m'))"
   ]
  },
  {
   "cell_type": "code",
   "execution_count": 2,
   "metadata": {},
   "outputs": [
    {
     "name": "stdout",
     "output_type": "stream",
     "text": [
      "Output #2: 20, 40, 90\n"
     ]
    }
   ],
   "source": [
    "a = 20\n",
    "b = 40\n",
    "c= 90\n",
    "print('Output #2: {0}, {1}, {2}'.format(a, b, c))"
   ]
  },
  {
   "cell_type": "code",
   "execution_count": 3,
   "metadata": {},
   "outputs": [
    {
     "name": "stdout",
     "output_type": "stream",
     "text": [
      "Output #3: 12.0\n"
     ]
    }
   ],
   "source": [
    "y = 2.5 * 4.8\n",
    "print('Output #3: {0:.1f}'.format(y))\n",
    "#print('Output #3: {0:.1f}'.format(y))\n",
    "# ':d' means setting for a point."
   ]
  },
  {
   "cell_type": "code",
   "execution_count": 5,
   "metadata": {},
   "outputs": [
    {
     "name": "stdout",
     "output_type": "stream",
     "text": [
      "Output #16: 'multi-line' comment strings w/ triple\n",
      "quotes\n"
     ]
    }
   ],
   "source": [
    "#In this case, just hit enter to change the line.\n",
    "print('Output #16: {0:s}'.format(''''multi-line' comment strings w/ triple\n",
    "quotes'''))"
   ]
  },
  {
   "cell_type": "code",
   "execution_count": 13,
   "metadata": {},
   "outputs": [
    {
     "name": "stdout",
     "output_type": "stream",
     "text": [
      "Output #15: to change the line, insert backlash + 'n' \n",
      " like this\n",
      "Output #15: to change the line, insert backlash + 'n' \n",
      " like this\n"
     ]
    }
   ],
   "source": [
    "print('Output #15: {0:s}'.format('to change the line, insert backlash + \\'n\\' \\n like this'))\n",
    "\n",
    "print('Output #15: {0:s}'.format('to change the line, insert backlash + \\'n\\' \\\n",
    "\\n like this'))\n",
    "#To chage the line in an editor, use \\(backlash)"
   ]
  },
  {
   "cell_type": "code",
   "execution_count": 14,
   "metadata": {},
   "outputs": [
    {
     "name": "stdout",
     "output_type": "stream",
     "text": [
      "this isn't everything you're\n"
     ]
    }
   ],
   "source": [
    "print('{0:s} {1:s} {2:s} {3:s}'.format('this', 'isn\\'t', 'everything', 'you\\'re'))"
   ]
  },
  {
   "cell_type": "code",
   "execution_count": 21,
   "metadata": {},
   "outputs": [
    {
     "name": "stdout",
     "output_type": "stream",
     "text": [
      "['This', 'is', 'a', 'short', 'string']\n",
      "This is a short string\n",
      "This!@is!@a!@short!@string\n"
     ]
    }
   ],
   "source": [
    "str1 = 'This is a '\n",
    "str2 = 'short string'\n",
    "sentence = str1 + str2\n",
    "\n",
    "a1 = sentence.split(' ')\n",
    "print(a1)\n",
    "\n",
    "print(' '.join(a1))\n",
    "\n",
    "print(sentence.replace(' ', '!@'))"
   ]
  },
  {
   "cell_type": "code",
   "execution_count": 25,
   "metadata": {},
   "outputs": [
    {
     "name": "stdout",
     "output_type": "stream",
     "text": [
      "BREATH deelply in the SILLENCE, NO sudden moves\n",
      "breath deelply in the sillence, no sudden moves\n",
      "BREATH DEELPLY IN THE SILLENCE, NO SUDDEN MOVES\n",
      "Breath deelply in the sillence, no sudden moves\n"
     ]
    }
   ],
   "source": [
    "str3 = 'BREATH deelply in the SILLENCE, NO sudden moves'\n",
    "print(str3)\n",
    "print(str3.lower())\n",
    "print(str3.upper())\n",
    "print(str3.capitalize())"
   ]
  },
  {
   "cell_type": "markdown",
   "metadata": {},
   "source": [
    "----"
   ]
  },
  {
   "cell_type": "markdown",
   "metadata": {},
   "source": [
    "## Regular expression\n",
    "\n",
    "- to find specific patterns of letters"
   ]
  },
  {
   "cell_type": "code",
   "execution_count": 27,
   "metadata": {
    "collapsed": true
   },
   "outputs": [],
   "source": [
    "import re\n",
    "# re모듈은 특정 패턴을 만들거나 찾을 수 있는 함수들 포함(re.complie, re.search, re.sub, re.ignorecase, re.I ...)"
   ]
  },
  {
   "cell_type": "code",
   "execution_count": 28,
   "metadata": {},
   "outputs": [
    {
     "name": "stdout",
     "output_type": "stream",
     "text": [
      "['The', 'quick', 'brown', 'fox', 'jumps', 'over', 'the', 'lazy', 'dog.']\n"
     ]
    }
   ],
   "source": [
    "string = 'The quick brown fox jumps over the lazy dog.'\n",
    "string_list = string.split()\n",
    "print(string_list)"
   ]
  },
  {
   "cell_type": "code",
   "execution_count": 34,
   "metadata": {
    "collapsed": true
   },
   "outputs": [],
   "source": [
    "pattern = re.compile(r'The', re.I)\n",
    "# 'raw string임을 나타내는 'r'.\n",
    "# 원시 문자열은 파이썬이 문자열 내 \\t, \\과 같은 특수한 문자들을 따로 처리하지 않게 해준다. 이는 패턴 검색 시 의도치 않은 해석 방지.\n",
    "# re.compile 함수는 텍스트 기반의 패턴을 정규 표현식으로 컴파일\n",
    "# re.I 함수는 대소문자의 구분을 없애준다.\n",
    "# re.sub 함수는 대소문자 구분 없이 원하는 패턴 찾고, 다른 문자열로 변경 가능"
   ]
  },
  {
   "cell_type": "code",
   "execution_count": 35,
   "metadata": {},
   "outputs": [
    {
     "name": "stdout",
     "output_type": "stream",
     "text": [
      "Output #38: 2\n",
      "Output #40: a quick brown fox jumps over a lazy dog.\n"
     ]
    }
   ],
   "source": [
    "count = 0\n",
    "for word in string_list:\n",
    "    if pattern.search(word):\n",
    "        count += 1\n",
    "print('Output #38: {0:d}'.format(count))\n",
    "print('Output #40: {:s}'.format(pattern.sub('a', string)))"
   ]
  },
  {
   "cell_type": "markdown",
   "metadata": {},
   "source": [
    "-------"
   ]
  },
  {
   "cell_type": "markdown",
   "metadata": {},
   "source": [
    "## Date"
   ]
  },
  {
   "cell_type": "code",
   "execution_count": 36,
   "metadata": {
    "collapsed": true
   },
   "outputs": [],
   "source": [
    "from datetime import date, time, datetime, timedelta"
   ]
  },
  {
   "cell_type": "code",
   "execution_count": 42,
   "metadata": {},
   "outputs": [
    {
     "name": "stdout",
     "output_type": "stream",
     "text": [
      "2018-06-20 /vs/ 2018-06-20 15:17:31.779513\n"
     ]
    }
   ],
   "source": [
    "today = date.today()\n",
    "current_time = datetime.today()\n",
    "\n",
    "print(today, '/vs/', current_time)"
   ]
  },
  {
   "cell_type": "code",
   "execution_count": 48,
   "metadata": {},
   "outputs": [
    {
     "name": "stdout",
     "output_type": "stream",
     "text": [
      "2018-06-30\n"
     ]
    }
   ],
   "source": [
    "print(today + timedelta(days = 10))"
   ]
  },
  {
   "cell_type": "code",
   "execution_count": 51,
   "metadata": {},
   "outputs": [
    {
     "name": "stdout",
     "output_type": "stream",
     "text": [
      "06/20/2018\n",
      "20180620\n",
      "2018-06-20\n"
     ]
    }
   ],
   "source": [
    "print(today.strftime('%m/%d/%Y'))\n",
    "print(today.strftime('%Y%m%d'))\n",
    "print(today.strftime('%Y-%m-%d'))"
   ]
  },
  {
   "cell_type": "markdown",
   "metadata": {},
   "source": [
    "---"
   ]
  },
  {
   "cell_type": "markdown",
   "metadata": {},
   "source": [
    "## List\n",
    "- 객체들의 순서가 있는 모임 collection\n",
    "- 유사한, 즉 동일한 형태의 객체만을 원소로 포함하는 한계를 넘어, 숫자, 문자열, 리스트, 튜플, 딕셔너리를 얼마든 표현 가능\n",
    "- **튜플과 함께 sequence로, 중복이 허용된다.**"
   ]
  },
  {
   "cell_type": "code",
   "execution_count": 79,
   "metadata": {},
   "outputs": [
    {
     "data": {
      "text/plain": [
       "2"
      ]
     },
     "execution_count": 79,
     "metadata": {},
     "output_type": "execute_result"
    }
   ],
   "source": [
    "test = [4, 5, 6, 7, 8, 5]\n",
    "test.count(5)"
   ]
  },
  {
   "cell_type": "code",
   "execution_count": 70,
   "metadata": {},
   "outputs": [
    {
     "data": {
      "text/plain": [
       "True"
      ]
     },
     "execution_count": 70,
     "metadata": {},
     "output_type": "execute_result"
    }
   ],
   "source": [
    "a = 4 in test\n",
    "a"
   ]
  },
  {
   "cell_type": "code",
   "execution_count": 81,
   "metadata": {},
   "outputs": [
    {
     "data": {
      "text/plain": [
       "[4, 5, 5, 6, 7, 8]"
      ]
     },
     "execution_count": 81,
     "metadata": {},
     "output_type": "execute_result"
    }
   ],
   "source": [
    "test.sort()\n",
    "sorted(test)"
   ]
  },
  {
   "cell_type": "markdown",
   "metadata": {},
   "source": [
    "This modifies your original list (i.e. sorts in-place). To get a sorted copy of the list, without changing the original, use the sorted() function"
   ]
  },
  {
   "cell_type": "code",
   "execution_count": 89,
   "metadata": {},
   "outputs": [],
   "source": [
    "test.reverse() #.sort()"
   ]
  },
  {
   "cell_type": "code",
   "execution_count": 90,
   "metadata": {},
   "outputs": [
    {
     "data": {
      "text/plain": [
       "[8, 7, 6, 5, 5, 4]"
      ]
     },
     "execution_count": 90,
     "metadata": {},
     "output_type": "execute_result"
    }
   ],
   "source": [
    "test"
   ]
  },
  {
   "cell_type": "markdown",
   "metadata": {},
   "source": [
    "------"
   ]
  },
  {
   "cell_type": "markdown",
   "metadata": {},
   "source": [
    "## Tuple\n",
    "- 튜플은 변경하지 못해 변경 함수가 없다.\n",
    "- 딕셔너리의 키 같은 역할 수행"
   ]
  },
  {
   "cell_type": "code",
   "execution_count": 91,
   "metadata": {},
   "outputs": [
    {
     "name": "stdout",
     "output_type": "stream",
     "text": [
      "('x', 'y', 'z')\n"
     ]
    }
   ],
   "source": [
    "ma_tuple = ('x', 'y', 'z')\n",
    "print(ma_tuple)"
   ]
  },
  {
   "cell_type": "code",
   "execution_count": 93,
   "metadata": {},
   "outputs": [
    {
     "name": "stdout",
     "output_type": "stream",
     "text": [
      "('x', 'y', 'z', 'x', 'y', 'z')\n"
     ]
    }
   ],
   "source": [
    "longer_mt = ma_tuple + ma_tuple\n",
    "print(longer_mt)"
   ]
  },
  {
   "cell_type": "code",
   "execution_count": 94,
   "metadata": {
    "collapsed": true
   },
   "outputs": [],
   "source": [
    "one, two, three = ma_tuple"
   ]
  },
  {
   "cell_type": "code",
   "execution_count": 97,
   "metadata": {},
   "outputs": [
    {
     "data": {
      "text/plain": [
       "'x'"
      ]
     },
     "execution_count": 97,
     "metadata": {},
     "output_type": "execute_result"
    }
   ],
   "source": [
    "one"
   ]
  },
  {
   "cell_type": "code",
   "execution_count": 98,
   "metadata": {},
   "outputs": [
    {
     "data": {
      "text/plain": [
       "str"
      ]
     },
     "execution_count": 98,
     "metadata": {},
     "output_type": "execute_result"
    }
   ],
   "source": [
    "type(one)"
   ]
  },
  {
   "cell_type": "code",
   "execution_count": 99,
   "metadata": {},
   "outputs": [
    {
     "data": {
      "text/plain": [
       "tuple"
      ]
     },
     "execution_count": 99,
     "metadata": {},
     "output_type": "execute_result"
    }
   ],
   "source": [
    "type(ma_tuple)"
   ]
  },
  {
   "cell_type": "markdown",
   "metadata": {},
   "source": [
    "---------"
   ]
  },
  {
   "cell_type": "markdown",
   "metadata": {},
   "source": [
    "## Dictionary\n",
    "- 파이썬에서 딕셔너리란 '고유 식별자'와 쌍을 이루는 '정보'로 구성된 리스트\n",
    "- Associative array, Key-value store, hash 등으로 불리기도 한다.\n",
    "- 리스트의 경우, 인덱스라는 연속되는 정수를 이용해 개별 값에 접근. 딕셔너리의 경우, 정수, 문자열, 기타 파이썬 객체인 'key'로 접근.\n",
    "- 키에 의미를 부여 가능\n",
    "- 리스트의 경우 인덱스들이 연속적인 정수이기에 각 값들은 암묵적으로 정렬되어 있다. 딕셔너리에는 인덱스가 숫자가 아니기에 정렬되어 있지는 않다. (*sorted())\n",
    "- 리스트의 경우, 기존에 없던 위치(인덱스)에 데이터를 할당할 수 없다. 딕셔너리는 필요에 따라 새로운 위치(키)를 생성 가능하다.\n",
    "- 딕셔너리는 정렬되어 있지 않아 값 추가와 검색에 빠르다.(컴퓨터 입장에서 새로운 아이템 삽입 시 인덱스 값을 재할당할 필요가 없다.)\n",
    "- 비즈니스 어플리케이션에서 보급성, 유연성을 충족"
   ]
  },
  {
   "cell_type": "code",
   "execution_count": 146,
   "metadata": {},
   "outputs": [
    {
     "name": "stdout",
     "output_type": "stream",
     "text": [
      "#Output #102: {'one': 1, 'two': 2, 'three': 3}\n"
     ]
    }
   ],
   "source": [
    "empty_dict = {}\n",
    "dict1 = {'one': 1, 'two': 2, 'three': 3}\n",
    "print('#Output #102: {}'.format(dict1))"
   ]
  },
  {
   "cell_type": "code",
   "execution_count": 141,
   "metadata": {},
   "outputs": [
    {
     "name": "stdout",
     "output_type": "stream",
     "text": [
      "#Output #103: dict1 has 3 elements\n"
     ]
    }
   ],
   "source": [
    "print('#Output #103: dict1 has {!s} elements'.format(len(dict1)))"
   ]
  },
  {
   "cell_type": "code",
   "execution_count": 142,
   "metadata": {},
   "outputs": [
    {
     "data": {
      "text/plain": [
       "2"
      ]
     },
     "execution_count": 142,
     "metadata": {},
     "output_type": "execute_result"
    }
   ],
   "source": [
    "# access\n",
    "dict1['two']"
   ]
  },
  {
   "cell_type": "code",
   "execution_count": 143,
   "metadata": {},
   "outputs": [
    {
     "data": {
      "text/plain": [
       "dict"
      ]
     },
     "execution_count": 143,
     "metadata": {},
     "output_type": "execute_result"
    }
   ],
   "source": [
    "type(dict1)"
   ]
  },
  {
   "cell_type": "code",
   "execution_count": 144,
   "metadata": {},
   "outputs": [
    {
     "data": {
      "text/plain": [
       "int"
      ]
     },
     "execution_count": 144,
     "metadata": {},
     "output_type": "execute_result"
    }
   ],
   "source": [
    "type(dict1['two'])"
   ]
  },
  {
   "cell_type": "code",
   "execution_count": 145,
   "metadata": {},
   "outputs": [
    {
     "data": {
      "text/plain": [
       "{'one': 1, 'three': 3, 'two': 2}"
      ]
     },
     "execution_count": 145,
     "metadata": {},
     "output_type": "execute_result"
    }
   ],
   "source": [
    "#copy() 함수 이용한 사본 만들기\n",
    "copy_dict1 = dict1.copy()\n",
    "copy_dict1"
   ]
  },
  {
   "cell_type": "code",
   "execution_count": 109,
   "metadata": {},
   "outputs": [
    {
     "name": "stdout",
     "output_type": "stream",
     "text": [
      "{'one': 1, 'two': 2, 'three': 3}\n"
     ]
    }
   ],
   "source": [
    "print(copy_dict1)"
   ]
  },
  {
   "cell_type": "code",
   "execution_count": 113,
   "metadata": {},
   "outputs": [
    {
     "data": {
      "text/plain": [
       "dict_keys(['one', 'two', 'three'])"
      ]
     },
     "execution_count": 113,
     "metadata": {},
     "output_type": "execute_result"
    }
   ],
   "source": [
    "dict1.keys()"
   ]
  },
  {
   "cell_type": "code",
   "execution_count": 114,
   "metadata": {},
   "outputs": [
    {
     "data": {
      "text/plain": [
       "dict_values([1, 2, 3])"
      ]
     },
     "execution_count": 114,
     "metadata": {},
     "output_type": "execute_result"
    }
   ],
   "source": [
    "dict1.values()"
   ]
  },
  {
   "cell_type": "code",
   "execution_count": 116,
   "metadata": {},
   "outputs": [
    {
     "data": {
      "text/plain": [
       "dict_items([('one', 1), ('two', 2), ('three', 3)])"
      ]
     },
     "execution_count": 116,
     "metadata": {},
     "output_type": "execute_result"
    }
   ],
   "source": [
    "dict1.items()"
   ]
  },
  {
   "cell_type": "code",
   "execution_count": 117,
   "metadata": {
    "collapsed": true
   },
   "outputs": [],
   "source": [
    "test2 = list(dict1)"
   ]
  },
  {
   "cell_type": "code",
   "execution_count": 118,
   "metadata": {},
   "outputs": [
    {
     "data": {
      "text/plain": [
       "['one', 'two', 'three']"
      ]
     },
     "execution_count": 118,
     "metadata": {},
     "output_type": "execute_result"
    }
   ],
   "source": [
    "test2"
   ]
  },
  {
   "cell_type": "code",
   "execution_count": 119,
   "metadata": {
    "collapsed": true
   },
   "outputs": [],
   "source": [
    "test3 = tuple(dict1)"
   ]
  },
  {
   "cell_type": "code",
   "execution_count": 120,
   "metadata": {},
   "outputs": [
    {
     "data": {
      "text/plain": [
       "('one', 'two', 'three')"
      ]
     },
     "execution_count": 120,
     "metadata": {},
     "output_type": "execute_result"
    }
   ],
   "source": [
    "test3"
   ]
  },
  {
   "cell_type": "code",
   "execution_count": 122,
   "metadata": {},
   "outputs": [],
   "source": [
    "test4 = list(dict1.keys())"
   ]
  },
  {
   "cell_type": "code",
   "execution_count": 123,
   "metadata": {},
   "outputs": [
    {
     "data": {
      "text/plain": [
       "['one', 'two', 'three']"
      ]
     },
     "execution_count": 123,
     "metadata": {},
     "output_type": "execute_result"
    }
   ],
   "source": [
    "test4"
   ]
  },
  {
   "cell_type": "code",
   "execution_count": 130,
   "metadata": {},
   "outputs": [
    {
     "data": {
      "text/plain": [
       "False"
      ]
     },
     "execution_count": 130,
     "metadata": {},
     "output_type": "execute_result"
    }
   ],
   "source": [
    "# in, not in, get로 '키'의 존재여부 확인\n",
    "2 in dict1"
   ]
  },
  {
   "cell_type": "code",
   "execution_count": 132,
   "metadata": {},
   "outputs": [
    {
     "name": "stdout",
     "output_type": "stream",
     "text": [
      "None\n"
     ]
    }
   ],
   "source": [
    "print(dict1.get('four'))"
   ]
  },
  {
   "cell_type": "code",
   "execution_count": 133,
   "metadata": {},
   "outputs": [
    {
     "name": "stdout",
     "output_type": "stream",
     "text": [
      "3\n"
     ]
    }
   ],
   "source": [
    "print(dict1.get('three'))"
   ]
  },
  {
   "cell_type": "code",
   "execution_count": 135,
   "metadata": {},
   "outputs": [
    {
     "data": {
      "text/plain": [
       "[3, 2, 1]"
      ]
     },
     "execution_count": 135,
     "metadata": {},
     "output_type": "execute_result"
    }
   ],
   "source": [
    "test5 = dict1.copy()\n",
    "sorted(test5.values(), reverse = True)"
   ]
  },
  {
   "cell_type": "code",
   "execution_count": 136,
   "metadata": {},
   "outputs": [
    {
     "data": {
      "text/plain": [
       "{'one': 1, 'three': 3, 'two': 2}"
      ]
     },
     "execution_count": 136,
     "metadata": {},
     "output_type": "execute_result"
    }
   ],
   "source": [
    "test5"
   ]
  },
  {
   "cell_type": "code",
   "execution_count": 138,
   "metadata": {},
   "outputs": [
    {
     "data": {
      "text/plain": [
       "[('one', 1), ('three', 3), ('two', 2)]"
      ]
     },
     "execution_count": 138,
     "metadata": {},
     "output_type": "execute_result"
    }
   ],
   "source": [
    "sorted(test5.items())"
   ]
  },
  {
   "cell_type": "code",
   "execution_count": 139,
   "metadata": {},
   "outputs": [
    {
     "data": {
      "text/plain": [
       "[1, 2, 3]"
      ]
     },
     "execution_count": 139,
     "metadata": {},
     "output_type": "execute_result"
    }
   ],
   "source": [
    "sorted(test5.values())"
   ]
  },
  {
   "cell_type": "code",
   "execution_count": 148,
   "metadata": {},
   "outputs": [
    {
     "data": {
      "text/plain": [
       "[('one', 1), ('two', 2), ('three', 3)]"
      ]
     },
     "execution_count": 148,
     "metadata": {},
     "output_type": "execute_result"
    }
   ],
   "source": [
    "sorted(test5.items(), key = lambda item: item[1])"
   ]
  },
  {
   "cell_type": "code",
   "execution_count": 149,
   "metadata": {},
   "outputs": [
    {
     "data": {
      "text/plain": [
       "[('one', 1), ('three', 3), ('two', 2)]"
      ]
     },
     "execution_count": 149,
     "metadata": {},
     "output_type": "execute_result"
    }
   ],
   "source": [
    "sorted(test5.items(), key = lambda item: item[0])"
   ]
  },
  {
   "cell_type": "markdown",
   "metadata": {},
   "source": [
    "딕셔너리는 키나 값에 따라 정렬할 수 있고, 값이 수치라면 오름내림차순 조절도 가능하다. <br/>\n",
    "lambda 함수는 런타임에서 표현식을 반환하는 짧은 함수"
   ]
  },
  {
   "cell_type": "markdown",
   "metadata": {},
   "source": [
    "## Comprehension\n",
    "- 리스트, 집합, 딕셔너리 축약은 for 문을 간결히 쓰는 방법"
   ]
  },
  {
   "cell_type": "code",
   "execution_count": 152,
   "metadata": {},
   "outputs": [
    {
     "name": "stdout",
     "output_type": "stream",
     "text": [
      "[[4, 5, 6], [7, 8, 9]]\n"
     ]
    }
   ],
   "source": [
    "my_data = [[1, 2, 3], [4, 5, 6], [7, 8, 9]]\n",
    "rows_to_keep = [row for row in my_data if row[2] >5]\n",
    "print(rows_to_keep)"
   ]
  },
  {
   "cell_type": "code",
   "execution_count": 154,
   "metadata": {},
   "outputs": [
    {
     "data": {
      "text/plain": [
       "{(1, 2, 3), (4, 5, 6), (7, 8, 9)}"
      ]
     },
     "execution_count": 154,
     "metadata": {},
     "output_type": "execute_result"
    }
   ],
   "source": [
    "my_data2 = [(1, 2, 3), (4, 5, 6), (7, 8, 9), (7, 8, 9)]\n",
    "md1 = {x for x in my_data2}\n",
    "md1\n",
    "# 집합(set) 축약을 이용해 튜플로 구성된 리스트에서 고유한 튜플만을 선별하는 법, 즉 튜플의 집합을 추출\n",
    "# set(my_data2)"
   ]
  },
  {
   "cell_type": "code",
   "execution_count": 155,
   "metadata": {},
   "outputs": [
    {
     "data": {
      "text/plain": [
       "{(1, 2, 3), (4, 5, 6), (7, 8, 9)}"
      ]
     },
     "execution_count": 155,
     "metadata": {},
     "output_type": "execute_result"
    }
   ],
   "source": [
    "set(my_data2)"
   ]
  },
  {
   "cell_type": "code",
   "execution_count": 156,
   "metadata": {},
   "outputs": [
    {
     "name": "stdout",
     "output_type": "stream",
     "text": [
      "(1, 2, 3)\n",
      "(4, 5, 6)\n",
      "(7, 8, 9)\n",
      "(7, 8, 9)\n"
     ]
    }
   ],
   "source": [
    "for i in my_data2:\n",
    "    print(i)"
   ]
  },
  {
   "cell_type": "code",
   "execution_count": 159,
   "metadata": {},
   "outputs": [
    {
     "name": "stdout",
     "output_type": "stream",
     "text": [
      "Output #136 (dictionary comprehension): {'customer2': 9, 'customer3': 11}\n"
     ]
    }
   ],
   "source": [
    "# Select specific key-value pairs using a dictionary comprehension\n",
    "my_dictionary = {'customer1': 7, 'customer2': 9, 'customer3': 11}\n",
    "my_results = {key : value for key, value in my_dictionary.items() if value > 8}\n",
    "print(\"Output #136 (dictionary comprehension): {}\".format(my_results))"
   ]
  },
  {
   "cell_type": "markdown",
   "metadata": {},
   "source": [
    "## Try - except"
   ]
  },
  {
   "cell_type": "code",
   "execution_count": 164,
   "metadata": {},
   "outputs": [
    {
     "name": "stdout",
     "output_type": "stream",
     "text": [
      "Output #139-2 (Error): nan\n",
      "Output #139-3 (Error): division by zero\n"
     ]
    }
   ],
   "source": [
    "def getMean(numericValues):\n",
    "    return sum(numericValues)/len(numericValues)\n",
    "\n",
    "my_list2 = [ ]\n",
    "# Short version\n",
    "try:\n",
    "    print(\"Output #139-1: {}\".format(getMean(my_list2)))\n",
    "except ZeroDivisionError as detail:\n",
    "    print(\"Output #139-2 (Error): {}\".format(float('nan')))\n",
    "    print(\"Output #139-3 (Error): {}\".format(detail))"
   ]
  },
  {
   "cell_type": "code",
   "execution_count": 166,
   "metadata": {},
   "outputs": [
    {
     "name": "stdout",
     "output_type": "stream",
     "text": [
      "Output #140-1 (Error): NaN\n",
      "Output #140-2 (Error): division by zero\n",
      "Output #140-4 (Finally): The finally block is executed every time\n"
     ]
    }
   ],
   "source": [
    "# Long version\n",
    "try:\n",
    "    result = getMean(my_list2)\n",
    "except ZeroDivisionError as detail:\n",
    "    print(\"Output #140-1 (Error): {}\".format('NaN'))\n",
    "    print(\"Output #140-2 (Error): {}\".format(detail))\n",
    "else:\n",
    "    print(\"Output #140-3 (The mean is): {}\".format(result))\n",
    "finally:\n",
    "    print(\"Output #140-4 (Finally): The finally block is executed every time\")"
   ]
  }
 ],
 "metadata": {
  "kernelspec": {
   "display_name": "Python 3",
   "language": "python",
   "name": "python3"
  },
  "language_info": {
   "codemirror_mode": {
    "name": "ipython",
    "version": 3
   },
   "file_extension": ".py",
   "mimetype": "text/x-python",
   "name": "python",
   "nbconvert_exporter": "python",
   "pygments_lexer": "ipython3",
   "version": "3.6.3"
  }
 },
 "nbformat": 4,
 "nbformat_minor": 2
}
